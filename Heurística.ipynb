{
 "cells": [
  {
   "cell_type": "markdown",
   "id": "d1e9aaa9",
   "metadata": {},
   "source": [
    "# <center>Cutting stock problem\n",
    "---"
   ]
  },
  {
   "cell_type": "markdown",
   "id": "de665205",
   "metadata": {},
   "source": [
    "### Importando bibliotecas"
   ]
  },
  {
   "cell_type": "code",
   "execution_count": 3,
   "id": "73bb14a0",
   "metadata": {},
   "outputs": [],
   "source": [
    "import json\n",
    "import struct\n",
    "import numpy as np\n",
    "import pandas as pd\n",
    "import random\n",
    "import sys"
   ]
  },
  {
   "cell_type": "markdown",
   "id": "a7515131",
   "metadata": {},
   "source": [
    "### Carregando dados"
   ]
  },
  {
   "cell_type": "code",
   "execution_count": 4,
   "id": "5f972c7b",
   "metadata": {},
   "outputs": [],
   "source": [
    "with open(\"./data/1.json\", encoding='utf-8') as arquivo:\n",
    "    data = json.load(arquivo)"
   ]
  },
  {
   "cell_type": "code",
   "execution_count": 5,
   "id": "8e740938",
   "metadata": {},
   "outputs": [],
   "source": [
    "#data"
   ]
  },
  {
   "cell_type": "code",
   "execution_count": 6,
   "id": "32b14ba1",
   "metadata": {
    "scrolled": true
   },
   "outputs": [
    {
     "data": {
      "text/plain": [
       "[{'Length': 52, 'Height': 53, 'Stock': 3, 'Cost': 2756}]"
      ]
     },
     "execution_count": 6,
     "metadata": {},
     "output_type": "execute_result"
    }
   ],
   "source": [
    "data['Objects']"
   ]
  },
  {
   "cell_type": "code",
   "execution_count": 7,
   "id": "97a31a56",
   "metadata": {
    "scrolled": false
   },
   "outputs": [
    {
     "data": {
      "text/plain": [
       "[{'Length': 19, 'Height': 21, 'Demand': 1, 'DemandMax': None, 'Value': 399},\n",
       " {'Length': 7, 'Height': 20, 'Demand': 1, 'DemandMax': None, 'Value': 140},\n",
       " {'Length': 4, 'Height': 20, 'Demand': 1, 'DemandMax': None, 'Value': 80},\n",
       " {'Length': 15, 'Height': 20, 'Demand': 1, 'DemandMax': None, 'Value': 300},\n",
       " {'Length': 14, 'Height': 20, 'Demand': 1, 'DemandMax': None, 'Value': 280},\n",
       " {'Length': 14, 'Height': 19, 'Demand': 1, 'DemandMax': None, 'Value': 266},\n",
       " {'Length': 17, 'Height': 19, 'Demand': 1, 'DemandMax': None, 'Value': 323},\n",
       " {'Length': 10, 'Height': 17, 'Demand': 1, 'DemandMax': None, 'Value': 170},\n",
       " {'Length': 13, 'Height': 17, 'Demand': 1, 'DemandMax': None, 'Value': 221},\n",
       " {'Length': 5, 'Height': 17, 'Demand': 1, 'DemandMax': None, 'Value': 85},\n",
       " {'Length': 16, 'Height': 17, 'Demand': 1, 'DemandMax': None, 'Value': 272},\n",
       " {'Length': 20, 'Height': 16, 'Demand': 1, 'DemandMax': None, 'Value': 320},\n",
       " {'Length': 5, 'Height': 16, 'Demand': 1, 'DemandMax': None, 'Value': 80},\n",
       " {'Length': 3, 'Height': 15, 'Demand': 1, 'DemandMax': None, 'Value': 45},\n",
       " {'Length': 5, 'Height': 14, 'Demand': 1, 'DemandMax': None, 'Value': 70},\n",
       " {'Length': 18, 'Height': 14, 'Demand': 1, 'DemandMax': None, 'Value': 252},\n",
       " {'Length': 10, 'Height': 13, 'Demand': 1, 'DemandMax': None, 'Value': 130},\n",
       " {'Length': 14, 'Height': 12, 'Demand': 1, 'DemandMax': None, 'Value': 168},\n",
       " {'Length': 11, 'Height': 11, 'Demand': 1, 'DemandMax': None, 'Value': 121},\n",
       " {'Length': 2, 'Height': 10, 'Demand': 1, 'DemandMax': None, 'Value': 20},\n",
       " {'Length': 7, 'Height': 9, 'Demand': 1, 'DemandMax': None, 'Value': 63},\n",
       " {'Length': 14, 'Height': 8, 'Demand': 1, 'DemandMax': None, 'Value': 112},\n",
       " {'Length': 13, 'Height': 8, 'Demand': 1, 'DemandMax': None, 'Value': 104},\n",
       " {'Length': 9, 'Height': 7, 'Demand': 1, 'DemandMax': None, 'Value': 63},\n",
       " {'Length': 7, 'Height': 7, 'Demand': 1, 'DemandMax': None, 'Value': 49},\n",
       " {'Length': 16, 'Height': 6, 'Demand': 1, 'DemandMax': None, 'Value': 96},\n",
       " {'Length': 20, 'Height': 5, 'Demand': 1, 'DemandMax': None, 'Value': 100},\n",
       " {'Length': 2, 'Height': 5, 'Demand': 1, 'DemandMax': None, 'Value': 10},\n",
       " {'Length': 9, 'Height': 3, 'Demand': 1, 'DemandMax': None, 'Value': 27},\n",
       " {'Length': 17, 'Height': 3, 'Demand': 1, 'DemandMax': None, 'Value': 51},\n",
       " {'Length': 5, 'Height': 3, 'Demand': 1, 'DemandMax': None, 'Value': 15},\n",
       " {'Length': 4, 'Height': 2, 'Demand': 1, 'DemandMax': None, 'Value': 8}]"
      ]
     },
     "execution_count": 7,
     "metadata": {},
     "output_type": "execute_result"
    }
   ],
   "source": [
    "data['Items']"
   ]
  },
  {
   "cell_type": "markdown",
   "id": "300b91bf",
   "metadata": {},
   "source": [
    "### Formatando dados"
   ]
  },
  {
   "cell_type": "code",
   "execution_count": 140,
   "id": "775d24d6",
   "metadata": {},
   "outputs": [],
   "source": [
    "class Container:                     # Classe para os Containers\n",
    "    def __init__(self, Length, Height, Cost):  \n",
    "        self.length = Length  \n",
    "        self.height = Height\n",
    "        self.cost   = Cost\n",
    "        self.area   = np.zeros((self.length, self.height))\n",
    "        self.itens  = []\n",
    "\n",
    "class Area:\n",
    "     def __init__(self, Length, Height):  \n",
    "        self.length  = Length  \n",
    "        self.height  = Height\n",
    "        self.area    = self.length * self.height\n",
    "        self.inicial = [0, 0]\n",
    "        self.final   = [0, 0]\n",
    "\n",
    "infoObjs = data['Objects'][0]        # Informações dos Containers de entrada\n",
    "stock    = infoObjs['Stock']         # Qtd no stock"
   ]
  },
  {
   "cell_type": "code",
   "execution_count": 141,
   "id": "5a18eb8c",
   "metadata": {},
   "outputs": [],
   "source": [
    "Lista_Itens = data['Items']          # Lista dos itens de entrada\n",
    "\n",
    "S = []                               # Conjunto de Container de entrada\n",
    "for i in range(stock):\n",
    "    S.append(Container(infoObjs['Length'],\n",
    "                       infoObjs['Height'], \n",
    "                       infoObjs['Cost']))"
   ]
  },
  {
   "cell_type": "markdown",
   "id": "e24b413b",
   "metadata": {},
   "source": [
    "### Heurística"
   ]
  },
  {
   "cell_type": "code",
   "execution_count": 154,
   "id": "e7567e32",
   "metadata": {
    "scrolled": true
   },
   "outputs": [],
   "source": [
    "def Heuristica():\n",
    "    ctrl = True\n",
    "    Objeto = S[0]\n",
    "    E = []\n",
    "    AM_inicial = Area(Objeto.length, Objeto.height)\n",
    "    AM_inicial.inicial = [0, 0]\n",
    "    AM_inicial.final   = [Objeto.length, Objeto.height]\n",
    "    E.append(AM_inicial)\n",
    "    cont = 0\n",
    "    \n",
    "    for item in Lista_Itens:\n",
    "        melhorAM = None\n",
    "        for AM in E:\n",
    "            if(Acomoda(AM, item)):\n",
    "                melhorAM = Best(AM, melhorAM, item)\n",
    "        if(melhorAM is None):\n",
    "            if(cont < stock):\n",
    "                cont = cont + 1\n",
    "                Objeto = S[cont + 1]\n",
    "                E = []\n",
    "                AreaObj = Area(Objeto.length, Objeto.height)\n",
    "                AreaObj.inicial = [0, 0]\n",
    "                AreaObj.final   = [Objeto.length, Objeto.height]\n",
    "                E.append(AreaObj)\n",
    "                Empacotar(item, AreaObj, Objeto)\n",
    "                Atualizar(E, Objeto)\n",
    "            else:\n",
    "                break\n",
    "        else:\n",
    "            if(ctrl == True):\n",
    "                Empacotar(item, melhorAM, Objeto)\n",
    "                Atualizar(E, Objeto)\n",
    "                ctrl = False\n",
    "\n",
    "            \n",
    "def Acomoda(area, item):\n",
    "    if(area.length >= item['Length'] and area.height >= item['Height']):\n",
    "        return True\n",
    "    \n",
    "    \n",
    "def Best(atualAM, melhorAM, item):\n",
    "    if(melhorAM is None):\n",
    "        return atualAM\n",
    "    else:\n",
    "        if(atualAM.length == item['Length'] and atualAM.height == item['Height']):\n",
    "            return atualAM\n",
    "        elif(melhorAM.length == item['Length'] and melhorAM.height == item['Height']):\n",
    "            return melhorDim\n",
    "        elif(atualAM.area > melhorDim.area):\n",
    "            return atualAM\n",
    "        else:\n",
    "            return melhorDim\n",
    "    \n",
    "    \n",
    "def Empacotar(item, melhorAM, Objeto):\n",
    "    Objeto.itens.append(item)\n",
    "    aleatorio = random.randint(0, 0)\n",
    "    \n",
    "    if aleatorio == 0:\n",
    "        corte = Objeto.area[melhorAM.inicial[0]:melhorAM.final[0], melhorAM.inicial[1]:melhorAM.final[1]]\n",
    "        for x in range(item['Length']):\n",
    "            for y in range(item['Height']):\n",
    "                corte[x][y] = 1    \n",
    "    elif aleatorio == 1:\n",
    "        corte = Objeto.area[melhorAM.inicial[0]:melhorAM.final[0], melhorAM.inicial[1]:melhorAM.final[1]]\n",
    "        for x in range(item['Length']):\n",
    "            for y in range(item['Height']):\n",
    "                corte[x][y + (corte.shape[0] - item['Height']) + 1] = 1  \n",
    "    elif aleatorio == 2:\n",
    "        corte = Objeto.area[melhorAM.inicial[0]:melhorAM.final[0], melhorAM.inicial[1]:melhorAM.final[1]]\n",
    "        for x in range(item['Length']):\n",
    "            for y in range(item['Height']):\n",
    "                corte[x + (corte.shape[0] - item['Length'])][y] = 1  \n",
    "    elif aleatorio == 3:\n",
    "        corte = Objeto.area[melhorAM.inicial[0]:melhorAM.final[0], melhorAM.inicial[1]:melhorAM.final[1]]\n",
    "        for x in range(item['Length']):\n",
    "            for y in range(item['Height']):\n",
    "                corte[x + (corte.shape[0] - item['Length'])][y + (corte.shape[0] - item['Height']) + 1] = 1\n",
    "\n",
    "                \n",
    "def Atualizar(E, Objeto):\n",
    "    aux          = np.empty_like(Objeto.area)\n",
    "    aux[:]       = Objeto.area\n",
    "    aux[0][40]   = 1\n",
    "    aux[26][26]  = 1\n",
    "    coordInicial = [0, 0]\n",
    "    coordFinal   = [0, 0]\n",
    "    indicador = 2\n",
    "    \n",
    "    for x in range(Objeto.length):  \n",
    "        for y in range(Objeto.height):\n",
    "            if(aux[x][y] == 0):\n",
    "                corte = aux[x:Objeto.length, y:Objeto.height]\n",
    "                limX  = corte.shape[0]\n",
    "                cont = 0\n",
    "                achou = 0\n",
    "                \n",
    "                for k in range(corte.shape[0]):\n",
    "                    for z in range(corte.shape[1]):\n",
    "                        if corte[k][z] == 1:\n",
    "                            achou = 1\n",
    "                            \n",
    "                            if k == 0 and cont == 0:\n",
    "                                print('Condição:1')\n",
    "                                limX = z\n",
    "                                area = aux[x:, y:limX-corte.shape[1]]\n",
    "                                cont = 1\n",
    "                                break\n",
    "                                \n",
    "                            elif limX == corte.shape[0]:\n",
    "                                print('Condição:2')\n",
    "                                area = aux[x:corte.shape[0]-k, y:]\n",
    "                                break\n",
    "                            \n",
    "                            elif cont == 1 and z < limX:\n",
    "                                print('Condição:3')\n",
    "                                area = aux[x:corte.shape[0]-k, y:limX-corte.shape[1]]\n",
    "                                break\n",
    "                        else:\n",
    "                            continue\n",
    "                            \n",
    "                if achou == 0:\n",
    "                    print('Condição:0')\n",
    "                    area = corte                    \n",
    "                \n",
    "                area[:] = indicador\n",
    "                \n",
    "                np.set_printoptions(threshold=np.inf)\n",
    "                indicador += 1\n",
    "                print(area)\n",
    "                \n",
    "                AreaMaximal = Area(area.shape[0], area.shape[1])"
   ]
  },
  {
   "cell_type": "code",
   "execution_count": null,
   "id": "602368c6",
   "metadata": {},
   "outputs": [],
   "source": [
    "Heuristica()"
   ]
  }
 ],
 "metadata": {
  "kernelspec": {
   "display_name": "Python 3",
   "language": "python",
   "name": "python3"
  },
  "language_info": {
   "codemirror_mode": {
    "name": "ipython",
    "version": 3
   },
   "file_extension": ".py",
   "mimetype": "text/x-python",
   "name": "python",
   "nbconvert_exporter": "python",
   "pygments_lexer": "ipython3",
   "version": "3.8.8"
  }
 },
 "nbformat": 4,
 "nbformat_minor": 5
}
